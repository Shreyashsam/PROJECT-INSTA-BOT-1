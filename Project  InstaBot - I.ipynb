{
 "cells": [
  {
   "cell_type": "markdown",
   "metadata": {},
   "source": [
    "Project : InstaBot - I"
   ]
  },
  {
   "cell_type": "markdown",
   "metadata": {},
   "source": [
    "Your friend has opened a new Food Blogging handle on Instagram and wants to get famous. He wants to follow a lot of people so that he can get noticed quickly but it is a tedious task so he asks you to help him. As you have just learned automation using Selenium, you decided to help him by creating an Instagram Bot.\n",
    "You need to create different functions for each task"
   ]
  },
  {
   "cell_type": "code",
   "execution_count": 253,
   "metadata": {},
   "outputs": [],
   "source": [
    "from selenium import webdriver\n",
    "from bs4 import BeautifulSoup\n",
    "from time import sleep\n",
    "from selenium.webdriver.common.by import By\n",
    "from selenium.webdriver.support.ui import WebDriverWait\n",
    "from selenium.webdriver.support import expected_conditions as Ec\n",
    "from selenium.common.exceptions import TimeoutException\n",
    "from selenium.webdriver.support.select import Select"
   ]
  },
  {
   "cell_type": "code",
   "execution_count": 167,
   "metadata": {},
   "outputs": [],
   "source": [
    "driver=webdriver.Chrome(executable_path='chromedriver')\n",
    "driver.get('https://www.instagram.com/')\n",
    "driver.maximize_window()"
   ]
  },
  {
   "cell_type": "code",
   "execution_count": 168,
   "metadata": {},
   "outputs": [],
   "source": [
    "wait=WebDriverWait(driver,10)\n",
    "username='SAMPLE_USERNAME'\n",
    "password='SAMPLE_PASSWORD'"
   ]
  },
  {
   "cell_type": "markdown",
   "metadata": {},
   "source": [
    "ANSWER 1"
   ]
  },
  {
   "cell_type": "markdown",
   "metadata": {},
   "source": [
    "Login to your Instagram Handle\n",
    "Submit with sample username and password"
   ]
  },
  {
   "cell_type": "code",
   "execution_count": 178,
   "metadata": {},
   "outputs": [],
   "source": [
    "def Login_To_Insta(userName,Password):\n",
    "        try:\n",
    "                wait.until(Ec.presence_of_element_located((By.NAME,'username'))).send_keys(userName) \n",
    "                wait.until(Ec.presence_of_element_located((By.NAME,'password'))).send_keys(Password)\n",
    "                butn=wait.until(Ec.presence_of_element_located((By.XPATH,'//button[@class=\"_acan _aiit _acap _aijb _acas _aj1-\"]'))).submit()\n",
    "                not_now_btn=wait.until(Ec.presence_of_element_located((By.XPATH,'//div[@class=\"_ac8f\"]//button'))).click()\n",
    "                wait.until(Ec.presence_of_element_located((By.XPATH,'//div[@class=\"_a9-z\"]//button[1]'))).click()\n",
    "        except TimeoutException:\n",
    "                print(\"something went wrong\")"
   ]
  },
  {
   "cell_type": "code",
   "execution_count": 179,
   "metadata": {},
   "outputs": [],
   "source": [
    "Login_To_Insta(username,password)"
   ]
  },
  {
   "cell_type": "markdown",
   "metadata": {},
   "source": [
    "ANSWER 2"
   ]
  },
  {
   "cell_type": "markdown",
   "metadata": {},
   "source": [
    "Type for “food” in search bar and print all the names of the Instagram Handles that are displayed in list after typing “food”\n",
    "Note : Make sure to avoid printing hashtags"
   ]
  },
  {
   "cell_type": "code",
   "execution_count": 180,
   "metadata": {},
   "outputs": [],
   "source": [
    "def search(string):\n",
    "  search_btn=driver.find_element(By.LINK_TEXT,'Search').click()\n",
    "  wait.until(Ec.presence_of_element_located((By.CLASS_NAME,'_aauy')))\n",
    "  search_box=driver.find_element(By.CLASS_NAME,'_aauy')\n",
    "  search_box.send_keys(string)"
   ]
  },
  {
   "cell_type": "code",
   "execution_count": 181,
   "metadata": {},
   "outputs": [],
   "source": [
    "search('food')"
   ]
  },
  {
   "cell_type": "code",
   "execution_count": 206,
   "metadata": {},
   "outputs": [
    {
     "name": "stdout",
     "output_type": "stream",
     "text": [
      "55\n",
      "solapuri_food\n",
      "foodie_incarnate\n",
      "explore/tags/food\n",
      "maldives.explores\n",
      "albaik\n",
      "switzerland.explores\n",
      "explore/tags/foodie\n",
      "food\n",
      "explore/tags/foodporn\n",
      "canada.explores\n",
      "uk.explores\n",
      "philippines.explores\n",
      "germany.explores\n",
      "china.travels\n",
      "mexico.explores\n",
      "foodhunter_sabu\n",
      "the_sober_guy._\n",
      "foodbible\n",
      "foodfusionpk\n",
      "poland.explore\n",
      "sana\n",
      "sundaybrunchfood\n",
      "asianfoodnetwork\n",
      "masalabox\n",
      "yusifadila96\n",
      "explore/tags/foodphotography\n",
      "explore/tags/foodblogger\n",
      "foodrepublic\n",
      "delhifoodwalks\n",
      "spainexplore\n",
      "thailand.explores\n",
      "meghnasfoodmagic\n",
      "food.darzee\n",
      "southkorea.explores\n",
      "mofpi_goi\n",
      "fooddotcom\n",
      "seychelles.explore\n",
      "foodporn\n",
      "singapore.foodie\n",
      "colombia.travelers\n",
      "sibungbung\n",
      "foodpanda_pakistan\n",
      "dilsefoodie\n",
      "jana_italyfoodprn\n",
      "delicioushealthyvideos\n",
      "explore/tags/foodstylist\n",
      "thefoodbabe\n",
      "paidaishi_foodie\n",
      "explore/tags/foodstagram\n",
      "yfood\n",
      "tokyo.explores\n",
      "jumiafoodma\n",
      "adeelchaudry1\n",
      "worldfoodprogramme\n",
      "vietnamtravelers\n"
     ]
    }
   ],
   "source": [
    "ans=[]\n",
    "data=driver.find_elements(By.CLASS_NAME,'_abm4')\n",
    "for i in range (len(data)):\n",
    "  html=data[i].get_attribute('innerHTML')\n",
    "  res=BeautifulSoup(html,'html.parser')\n",
    "  a=res.find('a')\n",
    "  ans.append(a.get('href'))\n",
    "for i in ans:\n",
    "   print(i[1:len(i)-1])"
   ]
  },
  {
   "cell_type": "markdown",
   "metadata": {},
   "source": [
    "ANSWER 3"
   ]
  },
  {
   "cell_type": "markdown",
   "metadata": {},
   "source": [
    "Searching and Opening a profile using \n",
    "Open profile of “So Delhi”"
   ]
  },
  {
   "cell_type": "code",
   "execution_count": 261,
   "metadata": {},
   "outputs": [],
   "source": [
    "# _ab6-\n",
    "# go to the home page\n",
    "btn=driver.find_element(By.CLASS_NAME,'_ab6-')\n",
    "btn.click()"
   ]
  },
  {
   "cell_type": "code",
   "execution_count": 269,
   "metadata": {},
   "outputs": [],
   "source": [
    "def search_open(key):\n",
    "  search(key)\n",
    "  # wait.until(Ec.presence_of_element_located((By.CLASS_NAME,'_abm4')))\n",
    "  # wait.until(Ec.presence_of_element_located((By.CLASS_NAME,'_abm4')))\n",
    "  sleep(5)\n",
    "  btn=driver.find_element(By.CLASS_NAME,'_abm4')\n",
    "  btn.click()\n"
   ]
  },
  {
   "cell_type": "code",
   "execution_count": 217,
   "metadata": {},
   "outputs": [],
   "source": [
    "search_open('So Delhi')"
   ]
  },
  {
   "cell_type": "markdown",
   "metadata": {},
   "source": [
    "ANSWER 4"
   ]
  },
  {
   "cell_type": "markdown",
   "metadata": {},
   "source": [
    "Follow/Unfollow given handle - \n",
    "Open the Instagram Handle of “So Delhi”\n",
    "Start following it. Print a message if you are already following\n",
    "After following, unfollow the instagram handle. Print a message if you have already unfollowed."
   ]
  },
  {
   "cell_type": "code",
   "execution_count": 245,
   "metadata": {},
   "outputs": [],
   "source": [
    "def follow(key):\n",
    "  search_open(key)\n",
    "  #following so_delhi page\n",
    "  sleep(5)\n",
    "  follow_so_delhi=driver.find_element(By.XPATH,'//button[contains(@class,\"_acan\")]')\n",
    "  follow_so_delhi.click()\n",
    "  if(follow_so_delhi.text=='Following'):\n",
    "    print('all ready followed')"
   ]
  },
  {
   "cell_type": "code",
   "execution_count": 246,
   "metadata": {},
   "outputs": [],
   "source": [
    "follow('So Delhi')"
   ]
  },
  {
   "cell_type": "code",
   "execution_count": 360,
   "metadata": {},
   "outputs": [],
   "source": [
    "\n",
    "def unfollow(key):\n",
    "  # search_open(key)\n",
    "  # sleep(5)\n",
    "  unfollow_so_delhi=driver.find_element(By.XPATH,'//button[contains(@class,\"_acan\")]')\n",
    "  if(unfollow_so_delhi.text=='Following'):\n",
    "    unfollow_so_delhi.click()\n",
    "    sleep(8)\n",
    "    a=driver.switch_to.alert\n",
    "    btn=driver.find_element(By.XPATH,'//div[@class,\"_ab8w  _ab94 _ab99 _ab9f _ab9m _ab9o  _ab9w _abcm\"]/button[last()]')\n",
    "    btn.click()\n",
    "  else:\n",
    "    print('all ready unfollowing')"
   ]
  },
  {
   "cell_type": "code",
   "execution_count": 361,
   "metadata": {},
   "outputs": [],
   "source": [
    "unfollow('So Delhi')"
   ]
  },
  {
   "cell_type": "markdown",
   "metadata": {},
   "source": [
    "ANSWER 5"
   ]
  },
  {
   "cell_type": "markdown",
   "metadata": {},
   "source": [
    "Like/Unlike posts\n",
    "Liking the top 30 posts of the ‘dilsefoodie'. Print message if you have already liked it.\n",
    "Unliking the top 30 posts of the ‘dilsefoodie’. Print message if you have already unliked it."
   ]
  },
  {
   "cell_type": "code",
   "execution_count": 277,
   "metadata": {},
   "outputs": [],
   "source": [
    "# _ab6-\n",
    "btn=driver.find_element(By.CLASS_NAME,'_ab6-')\n",
    "btn.click()"
   ]
  },
  {
   "cell_type": "code",
   "execution_count": 287,
   "metadata": {},
   "outputs": [
    {
     "name": "stdout",
     "output_type": "stream",
     "text": [
      "all ready like the post\n",
      "all ready like the post\n",
      "all ready like the post\n",
      "all ready like the post\n",
      "all ready like the post\n",
      "all ready like the post\n",
      "all ready like the post\n",
      "all ready like the post\n",
      "all ready like the post\n"
     ]
    }
   ],
   "source": [
    "def like(key):\n",
    "  search(key)\n",
    "  sleep(5)\n",
    "  btn=driver.find_element(By.CLASS_NAME,'_abm4')\n",
    "  btn.click()\n",
    "  sleep(5)\n",
    "  handle=driver.find_element(By.CLASS_NAME,'_aagw')\n",
    "  handle.click()\n",
    "  for i in range(30):\n",
    "    like_btn=driver.find_element(By.XPATH,'//span[@class=\"_aamw\"]/button')\n",
    "\n",
    "    get_text=BeautifulSoup(like_btn.get_attribute('innerHTML'),'html.parser').svg['aria-label']\n",
    "    if(get_text=='Like'):\n",
    "      like_btn.click()\n",
    "    else:\n",
    "      print(\"all ready like the post\")\n",
    "    sleep(3)\n",
    "    next_btn=driver.find_element(By.XPATH,'//div[contains(@class,\"_aaqg\")]//button')\n",
    "    next_btn.click()\n",
    "    sleep(5)"
   ]
  },
  {
   "cell_type": "code",
   "execution_count": null,
   "metadata": {},
   "outputs": [],
   "source": [
    "like('dilsefoodie')"
   ]
  },
  {
   "cell_type": "code",
   "execution_count": 288,
   "metadata": {},
   "outputs": [],
   "source": [
    "btn=driver.find_element(By.CLASS_NAME,'_ab6-')\n",
    "btn.click()"
   ]
  },
  {
   "cell_type": "code",
   "execution_count": 293,
   "metadata": {},
   "outputs": [],
   "source": [
    "search('dilsefoodie')\n",
    "sleep(5)\n",
    "btn=driver.find_element(By.CLASS_NAME,'_abm4')\n",
    "btn.click()"
   ]
  },
  {
   "cell_type": "code",
   "execution_count": 294,
   "metadata": {},
   "outputs": [],
   "source": [
    "def unlike():\n",
    "  handle=driver.find_element(By.CLASS_NAME,'_aagw')\n",
    "  handle.click()\n",
    "  for i in range(30):\n",
    "    like_btn=driver.find_element(By.XPATH,'//span[@class=\"_aamw\"]/button')\n",
    "\n",
    "    get_text=BeautifulSoup(like_btn.get_attribute('innerHTML'),'html.parser').svg['aria-label']\n",
    "    if(get_text=='Unlike'):\n",
    "      like_btn.click()\n",
    "    else:\n",
    "      print(\"all ready like the post\")\n",
    "    sleep(3)\n",
    "    next_btn=driver.find_element(By.XPATH,'//div[contains(@class,\"_aaqg\")]//button')\n",
    "    next_btn.click()\n",
    "    sleep(5)"
   ]
  },
  {
   "cell_type": "code",
   "execution_count": 295,
   "metadata": {},
   "outputs": [],
   "source": [
    "unlike()"
   ]
  },
  {
   "cell_type": "code",
   "execution_count": 297,
   "metadata": {},
   "outputs": [],
   "source": [
    "btn=driver.find_element(By.CLASS_NAME,'_ab6-')\n",
    "btn.click()"
   ]
  },
  {
   "cell_type": "markdown",
   "metadata": {},
   "source": [
    "ANSWER 6"
   ]
  },
  {
   "cell_type": "markdown",
   "metadata": {},
   "source": [
    "Extract list of followers\n",
    "Extract the usernames of the first 500 followers of ‘foodtalkindia’ and ‘sodelhi’.\n",
    "Now print all the followers of “foodtalkindia” that you are following but those who don’t follow you."
   ]
  },
  {
   "cell_type": "code",
   "execution_count": 338,
   "metadata": {},
   "outputs": [],
   "source": [
    "def search_open(key):\n",
    "  search(key)\n",
    "  sleep(5)\n",
    "  btn=driver.find_element(By.CLASS_NAME,'_abm4')\n",
    "  btn.click()"
   ]
  },
  {
   "cell_type": "markdown",
   "metadata": {},
   "source": [
    "NOTE:In this only 'foodtalkind' they dont gave the access to see the followers of them to us so we just some of them so in the answer i print those followes only that we can access"
   ]
  },
  {
   "cell_type": "code",
   "execution_count": 336,
   "metadata": {},
   "outputs": [],
   "source": [
    "def find_follower(key):\n",
    "  search_open(key)\n",
    "  sleep(5)\n",
    "  follow_btn=driver.find_element(By.PARTIAL_LINK_TEXT,'followers')\n",
    "  follow_btn.click()\n",
    "  sleep(3)\n",
    "  frame=driver.find_element(By.CLASS_NAME,'_aano')\n",
    "  for i in range(15):\n",
    "    sleep(3)\n",
    "    driver.execute_script('arguments[0].scrollTop=arguments[0].scrollHeight',frame)\n",
    "  handle=driver.find_elements(By.XPATH,'//span[contains(@class,\"_aacl\")]/div')\n",
    "  cnt=1\n",
    "  for i in handle:\n",
    "    print(cnt,i.text)\n",
    "    if(cnt==501):\n",
    "      break\n",
    "    cnt+=1"
   ]
  },
  {
   "cell_type": "markdown",
   "metadata": {},
   "source": [
    "Extract the usernames of the first 500 followers of ‘sodelhi’."
   ]
  },
  {
   "cell_type": "code",
   "execution_count": 339,
   "metadata": {},
   "outputs": [
    {
     "name": "stdout",
     "output_type": "stream",
     "text": [
      "1 arya_16022022\n",
      "2 sarvjeetkhatter\n",
      "3 manisha.kinra\n",
      "4 jeet_kaur_2009\n",
      "5 vedansha.xx_\n",
      "6 tusharrrr_18\n",
      "7 gunita8283\n",
      "8 delhi_birthday_decor\n",
      "9 the_delhites\n",
      "10 shivi.ghai\n",
      "11 itx_haya001\n",
      "12 pratham_.aggarwal\n",
      "13 moonlit._.fairy\n",
      "14 manikchawla13\n",
      "15 mystique_raj73\n",
      "16 _naamannn\n",
      "17 da_ksh6562\n",
      "18 vaibhav_malik_02\n",
      "19 ___wahid_zama\n",
      "20 bharteshvaibhav\n",
      "21 sahuu__queen\n",
      "22 jgm__18\n",
      "23 its_preeti_pr\n",
      "24 anu3658\n",
      "25 kohlixmohit\n",
      "26 _._davina._._\n",
      "27 _cuteiii_7838\n",
      "28 kes_hoe\n",
      "29 triparna_paik\n",
      "30 somebodyshobhit\n",
      "31 jjagdish6875\n",
      "32 ms.dewan\n",
      "33 siya_00989\n",
      "34 _rahulkushwaha__\n",
      "35 justankitaa_\n",
      "36 simran21_\n",
      "37 maniisabutterfly\n",
      "38 shivtimcy\n",
      "39 timtim6925\n",
      "40 mylifeassree\n",
      "41 vihaansharma_\n",
      "42 colorcraftnx\n",
      "43 justnxmusic\n",
      "44 rohan_parmar_official_8000\n",
      "45 aks_hitaa__\n",
      "46 mousam_goswami45\n",
      "47 shanajabbar._\n",
      "48 _im_adi9\n",
      "49 aanjaneya_mamgain\n",
      "50 sultaniisana\n",
      "51 twinkle_19v\n",
      "52 bottle_of_champagne\n",
      "53 _dogravishal_\n",
      "54 kktroy_\n",
      "55 babylips_ragini\n",
      "56 tanishansfw\n",
      "57 nupur_chaursia\n",
      "58 event.planner_mangement\n",
      "59 safia_khn\n",
      "60 yasmeen___n___01\n",
      "61 mohit_bhati_10\n",
      "62 notsoshwetaaa_\n",
      "63 cheena_gupta\n",
      "64 sam_shreyash123\n",
      "65 _prasoon\n",
      "66 itsmehimanshu._\n",
      "67 143_1015\n",
      "68 subhash.sagar.71404\n",
      "69 mehakpreetkaur19637\n",
      "70 soumy__sr__\n",
      "71 sush_grewal\n",
      "72 shivam_sharma0212\n",
      "73 ikshikaarya\n",
      "74 yogita1arora\n",
      "75 sheetal_gautam_98\n",
      "76 glamms_upwithsun\n",
      "77 ananya__.12\n",
      "78 rajatpuri0301\n",
      "79 sam07abdus\n",
      "80 manojkashyap0879\n",
      "81 virajsinghrana97\n",
      "82 harshyaaaaar\n",
      "83 freshfeet.official\n",
      "84 parul012\n",
      "85 singh__sushant_144\n",
      "86 paru_thesoultraveller\n",
      "87 itz_x_uzaiif_x_world\n",
      "88 rv.estates\n",
      "89 arpitupadhyay01\n",
      "90 shubham.sr4\n",
      "91 nikhiljainnn\n",
      "92 adnan_khan5269\n",
      "93 johit_singh\n",
      "94 priyanshu__nagar\n",
      "95 amit_yadav_82xx\n",
      "96 propertybazaarggn01\n",
      "97 i_tusharkalra\n",
      "98 ankitgupta499\n",
      "99 ahen2001\n",
      "100 saood_khan_sk\n",
      "101 anjanishivani06\n",
      "102 nemuhakul\n",
      "103 amishatripathi_pvt\n",
      "104 vibhav_2905\n",
      "105 gandharva_shukla\n",
      "106 amandangii\n",
      "107 its_macchiato_baby\n",
      "108 theahir3\n",
      "109 himanshu_verse\n",
      "110 pankajbisht597\n",
      "111 reallokeshsinghbisht\n",
      "112 bea_dec\n",
      "113 aliayamin\n",
      "114 aakashkumar28798\n",
      "115 rmittal_023\n",
      "116 disha_dubey_dd\n",
      "117 karti_key\n",
      "118 sajidrcky\n",
      "119 iam_suraj.13\n",
      "120 arun79946\n",
      "121 krishnagupta._4\n",
      "122 arpitgoel07\n",
      "123 vandit.jainn\n",
      "124 vartikasisodiya\n",
      "125 heya.jane\n",
      "126 shibamanadl\n",
      "127 ishika_agarwal__\n",
      "128 mohittchandani\n",
      "129 northman_666\n",
      "130 aggarwallalit777\n",
      "131 divine_varda2745\n",
      "132 golugolu3118\n",
      "133 sneha.gupta.184\n",
      "134 priyanka_halbe\n",
      "135 mimansachaturvedi\n",
      "136 aadityasharmavats\n",
      "137 ambivertt100389\n",
      "138 shivamgoel_11\n",
      "139 mandeep.0010\n",
      "140 rishuvermaindia\n",
      "141 27wallflower\n",
      "142 vijay.tomar005\n",
      "143 anjali6260gupta\n",
      "144 pravendray426\n",
      "145 panchaljahnavi\n",
      "146 im_kaustubh\n",
      "147 anushka_aaa_\n",
      "148 __.lavish.__\n",
      "149 sheenzocean0616\n",
      "150 niveditaarora1928\n",
      "151 priyankathakur649\n",
      "152 prinshull\n",
      "153 pranay__420\n",
      "154 nono_jpeg\n",
      "155 prithvi_chakma\n",
      "156 _iamajc_\n",
      "157 sonalii_mohan\n",
      "158 mobilemastersofficial\n",
      "159 saniagill96\n",
      "160 mr.verma.70\n",
      "161 arv___yy\n",
      "162 kim___kaur98\n",
      "163 ribasobti\n",
      "164 arora.mohit007\n",
      "165 _imabhishek_01\n",
      "166 shagguunn\n",
      "167 guptanarayan7838\n",
      "168 _rahman.abdul_\n",
      "169 _tanvikhuranaaa\n",
      "170 subtly.bhav\n",
      "171 honeymaria84\n",
      "172 gratifygourmet\n",
      "173 __.spence\n",
      "174 jaanvimadhok\n",
      "175 khushidhawann_\n",
      "176 parth__kansal\n",
      "177 raol_739\n",
      "178 ____.moonup\n",
      "179 sourabh_i_\n",
      "180 nishkathuria_25\n",
      "181 krishsagar18\n",
      "182 s.a.m_1294\n",
      "183 airandairr\n",
      "184 thesunrayyyy\n",
      "185 ii_am_tanishq\n",
      "186 swati_hiranandani\n",
      "187 reshmataneja9\n",
      "188 thisisadityaaggarwal\n",
      "189 tr.arya\n",
      "190 situnpriya\n",
      "191 iamaswini_66\n",
      "192 kashishhkukrejaa\n",
      "193 aparajita_lama_ghosh\n",
      "194 monikaskhanna\n",
      "195 kamini_jangid\n",
      "196 mr.patrick066\n",
      "197 alohomohrah\n",
      "198 _thecelebrationcompany\n",
      "199 ipriyanshubagri\n",
      "200 soleman2918\n",
      "201 kishor.tanwar999\n",
      "202 delhistreetfood_lover\n",
      "203 anuragbhartiiii\n",
      "204 anshu_vikas_singh\n",
      "205 shakoorali73\n",
      "206 girl_in_gadchiroli\n",
      "207 theycallmepranay\n",
      "208 abhi13rawat\n",
      "209 _.neeti._\n",
      "210 paaro_0914\n",
      "211 rajveer_wadhwa\n",
      "212 eye_spy_a_surgeon\n",
      "213 m.naveed_59\n",
      "214 pankajtaneja08\n",
      "215 ratneshkumar7168\n",
      "216 lovedeeprenu\n",
      "217 official_ravi_709\n",
      "218 supriyasingh_99\n",
      "219 happy_jain\n",
      "220 _kaush_1612\n",
      "221 pramay_patel2708_shiva\n",
      "222 pawitsarna_29\n",
      "223 harshvardhan.vibhute\n",
      "224 rachit.jain2\n",
      "225 __gagan________\n",
      "226 poonamsablaniya_\n",
      "227 phujain\n",
      "228 luxuriacareprofessional\n",
      "229 vasuu.verma\n",
      "230 nasir_and_nature\n",
      "231 the_medha_batra\n",
      "232 tamannaajain\n",
      "233 gangsterrrrr__\n",
      "234 highly_motivated_guy\n",
      "235 khushisingh8__\n",
      "236 ayush.harit\n",
      "237 gauurimittal_\n",
      "238 shivansh_renaysha\n",
      "239 trishagnidey2320\n",
      "240 drishtigupta.____\n",
      "241 satwicksharma\n",
      "242 tximunn\n",
      "243 aadi_was_here\n",
      "244 alijba94\n",
      "245 himanshi_taneja_24\n",
      "246 nayabasna\n",
      "247 shipra.anand12\n",
      "248 soulsanity44\n",
      "249 namita.ajayan\n",
      "250 love_you_9315\n",
      "251 prathamjethwa2002\n",
      "252 dr._roy44\n",
      "253 _monteiro183\n",
      "254 shreyauppal11\n",
      "255 dhir82\n",
      "256 contentbazaar24\n",
      "257 sweta_ydv_19\n",
      "258 kavitajakhmola_\n",
      "259 satwik.abstruct\n",
      "260 delhi_vibes_for_you\n",
      "261 mohd__king_salman_rizwan\n",
      "262 suryayadav070\n",
      "263 mili_rawat\n",
      "264 ujjawalgupta\n",
      "265 llsani______777\n",
      "266 cityboys.excl\n",
      "267 smitadasguptaray\n",
      "268 thingsthroughmylens\n",
      "269 _.gaurisingh._\n",
      "270 omeaadvvani\n",
      "271 sandeep__peddi\n",
      "272 sassy_hub_\n",
      "273 tvishaa_07\n",
      "274 haniya_zaheer25\n",
      "275 geezpvt_\n",
      "276 shreya.arora15\n",
      "277 vatsal_grover29\n",
      "278 rimapradip\n",
      "279 alpha_beata_\n",
      "280 deveshk_prajapati\n",
      "281 p.r.i.y.a.n.k.a_s.i.n.g.h.a.l\n",
      "282 angelalalalaa\n",
      "283 han_tr1\n",
      "284 divyansh._.sh\n",
      "285 drawobsessedd\n",
      "286 mishra_jii434\n",
      "287 gangstaa._\n",
      "288 lohiya_yashii\n",
      "289 tanveer_inthewild\n",
      "290 arishanaeem\n",
      "291 poonamguptagoel\n",
      "292 sujal_n19\n",
      "293 daman001311\n",
      "294 anshuljain__\n",
      "295 mohit_91119\n",
      "296 jindalsanskriti\n",
      "297 shik_ha8825\n",
      "298 lurkershurker123\n",
      "299 _diya._jain_\n",
      "300 amardeep_sisoudiya96\n",
      "301 dshar17\n",
      "302 randomcupcake4\n",
      "303 shefali7467\n",
      "304 ankita.singh09\n",
      "305 kakkar_shweta09\n",
      "306 i_niteshmittal\n",
      "307 p.r.a.khar\n",
      "308 tanvikathuria23\n",
      "309 graciexxn\n",
      "310 mohammedfaisal717\n",
      "311 gaautam_wadhwa_\n",
      "312 dead_is_the_new_sexy\n",
      "313 shiveykatyal\n",
      "314 rajveer_singh__khetasar\n",
      "315 its_manojpaneru\n",
      "316 eku_u\n",
      "317 diksha_singh_rana\n",
      "318 atif_mtb\n",
      "319 priyarautela1\n",
      "320 swaraj_mule\n",
      "321 tanishamittal05\n",
      "322 vamanigupta\n",
      "323 _lifeofaabhinaav_\n",
      "324 deepakgautam0132\n",
      "325 ridhiisaxena\n",
      "326 parthjain907\n",
      "327 sumitsinghal007\n",
      "328 pooniapooja\n",
      "329 akanksha__i\n",
      "330 asif.ghazi\n",
      "331 up_boyindelhi\n",
      "332 dual.horseman\n",
      "333 _non_s_029\n",
      "334 _thefamilyfood_\n",
      "335 varunsahai1986\n",
      "336 hassanahmad6524\n",
      "337 radhika0033\n",
      "338 herbal_everyday\n",
      "339 khushiiiiiiix.__\n",
      "340 vinsingh27\n",
      "341 handyhast_craft\n",
      "342 _prachi_shukla_28\n",
      "343 s.a.n.y.a_0.8\n",
      "344 csmohitgoyal\n",
      "345 bhatia.purvi\n",
      "346 p.iyushsharma\n",
      "347 kashyap_niharika97\n",
      "348 thakur.kapil.rajputt\n",
      "349 gauriii.__\n",
      "350 jathelord\n",
      "351 manminder02\n",
      "352 khushboo3368\n",
      "353 kikon.avungi\n",
      "354 shivi22_\n",
      "355 shruuti_bakes\n",
      "356 jaya.mukharya\n",
      "357 pranjal__bajaj\n",
      "358 jenny_gemini06\n",
      "359 nimmi_gupta2408\n",
      "360 aman_sejwal27\n",
      "361 anoop.yaduvanshi_\n",
      "362 graaccccyyyyy__\n",
      "363 _lucifer_morningstar_ig_\n",
      "364 silky_ag_\n",
      "365 bhavyabhargava11\n",
      "366 diyabarolia\n",
      "367 rihankhan80902\n",
      "368 an_kitaaaa__\n",
      "369 dee_klyf\n",
      "370 naina.16_05\n",
      "371 hiimanshii_0\n",
      "372 sapnakalrarohilla\n",
      "373 perfectly_confused\n",
      "374 bontrikaram\n",
      "375 officialrajput_0708\n",
      "376 27feb.gs\n",
      "377 shreyaa.pvtttt\n",
      "378 monu.das.2001\n",
      "379 sidandsom\n",
      "380 i_am_rakshit_chaudhary\n",
      "381 vivekchoudharyvickeyjaat\n",
      "382 sakshi_kanojia\n",
      "383 gagan2709\n",
      "384 tamseel_jafri\n",
      "385 drizzling_sunshine7\n",
      "386 crazy.sagittarius\n",
      "387 vishiifying\n",
      "388 varshika_.06\n",
      "389 phoenix__i\n",
      "390 marialuizacaetano4404\n",
      "391 _istuti.jnu_\n",
      "392 manoharpaswan334\n",
      "393 dhruv_5757\n",
      "394 harinibobilla\n",
      "395 sakiriqbal\n",
      "396 shivanshgupta__\n",
      "397 whysocialbutterfly\n",
      "398 ___up__sachin__babo___up__50__\n",
      "399 irahulk_krishna\n",
      "400 iliya_ility\n",
      "401 handia_akash775\n",
      "402 bhuvarya\n",
      "403 theyellowprop\n",
      "404 devrawatgupta\n",
      "405 varunrawat36\n",
      "406 sanya._.sethetic001\n",
      "407 unicorn_m7\n",
      "408 poojagulati09\n",
      "409 nehaag6\n",
      "410 sandyrawat10\n",
      "411 fitness_jruri\n",
      "412 shilpa_rks\n",
      "413 _shubham1900\n",
      "414 geraluk\n",
      "415 mohammadjunaid6537\n",
      "416 georgiabeyondflowers\n",
      "417 kanika__chauhan__\n",
      "418 vishalbakshi95\n",
      "419 ani._.s24\n",
      "420 the_silent_guyy_\n",
      "421 iriakhurana\n",
      "422 ritvik.gandhi\n",
      "423 bar_rum_bar\n",
      "424 anushi.aggarwal\n",
      "425 nimishakhandelwal\n",
      "426 nehasonowal_\n",
      "427 jaz_14052\n",
      "428 _poojaa_gupta_\n",
      "429 i_m_rmi\n",
      "430 aditi_i934\n",
      "431 aat.amansingh\n",
      "432 avi__709\n",
      "433 guddurongila\n",
      "434 shivammssingh\n",
      "435 madhur.sehgal_\n",
      "436 deepak_iii\n",
      "437 arsh_onlyfrens\n",
      "438 ns0137170\n",
      "439 shreya_ag15\n",
      "440 rahulkaroliya_\n",
      "441 whatsthefeed\n",
      "442 gurpreetsingh.mokha\n",
      "443 jagjeetkaura\n",
      "444 karungera85\n",
      "445 akhtar_shaikh78\n",
      "446 anavibhushannugyal\n",
      "447 aanchalchhabr\n",
      "448 nityasree86\n",
      "449 hishivamshukla\n",
      "450 jyotiip001\n",
      "451 inayat.khan022\n",
      "452 itsharshhhh20\n",
      "453 8.aquarius_delilah\n",
      "454 vandana.bhatnagar\n",
      "455 iyash_j29\n",
      "456 fareed64982022\n",
      "457 kunal.singh111996\n",
      "458 _vidhi_jaiswal_\n",
      "459 mini7709\n",
      "460 ni_khil4\n",
      "461 skkmalik\n",
      "462 archnanarang\n",
      "463 nay_lekhak\n",
      "464 deepak__kamboj\n",
      "465 sanjali_00\n",
      "466 riddhiisingh_\n",
      "467 jiyaarora_08\n",
      "468 jindal_chitra\n",
      "469 pxrthh_rajput\n",
      "470 sneha.ninnie\n",
      "471 _asmitasinha\n",
      "472 vinie_01\n",
      "473 _amanrajput__007\n",
      "474 kamakshiti\n",
      "475 ap.honeyy\n",
      "476 privatecartaxi\n",
      "477 sochodigitally\n",
      "478 indiemarche\n",
      "479 mooskaann\n",
      "480 pptinyint\n",
      "481 anuradha_gupta77\n",
      "482 paid_.rashmi._service\n",
      "483 deepakrawat3107\n",
      "484 insane._.insan_\n",
      "485 rajesh_kr_9771\n",
      "486 _m_x_afjal_100_\n",
      "487 im_shreya88\n",
      "488 _siddhigarg\n",
      "489 harshitchauhan9207\n",
      "490 himanshuwadhwa__\n",
      "491 nikhil.tyagi003\n",
      "492 shivam_kakkar02\n",
      "493 padminiguragol\n",
      "494 htshgoel\n",
      "495 ra.chna4669\n",
      "496 rhearoy15031995\n",
      "497 sukoonn.in\n",
      "498 saksh_094\n",
      "499 atulya_enterprises_\n",
      "500 abhinavmalik04\n",
      "501 thedelhicupcakery\n"
     ]
    }
   ],
   "source": [
    "find_follower('So Delhi')"
   ]
  },
  {
   "cell_type": "markdown",
   "metadata": {},
   "source": [
    "Extract the usernames of the first 500 followers of ‘foodtalkindia’."
   ]
  },
  {
   "cell_type": "markdown",
   "metadata": {},
   "source": [
    "NOTE:In this only 'foodtalkind' they dont gave the access to see the followers of them to us so we just some of them so in the answer i print those followes only that we can access"
   ]
  },
  {
   "cell_type": "code",
   "execution_count": 341,
   "metadata": {},
   "outputs": [
    {
     "name": "stdout",
     "output_type": "stream",
     "text": [
      "1 take_a_breaks\n",
      "2 itsshveta\n",
      "3 travelandfoodexplorer\n",
      "4 thenewshopdehradun\n",
      "5 rmigab\n",
      "6 aartikapoor__\n",
      "7 afsadiq1\n",
      "8 alansebastian13\n",
      "9 alpinekash\n",
      "10 anirban_flaneur\n",
      "11 anju.khatib\n",
      "12 anshit_bansal_03\n",
      "13 arman_cakes_cafe99\n",
      "14 tukijuki\n",
      "15 bakedbyrish\n",
      "16 shriya_0607_\n",
      "17 bishtbhaskar04\n",
      "18 brandallystudio\n",
      "19 lolwah_real_estate\n",
      "20 foodiesm.time\n",
      "21 hak_se_bukkhad\n",
      "22 kaath_ka\n",
      "23 kajalhinduja_\n",
      "24 naqsh_e_safar\n",
      "25 manishmalhotra1984\n",
      "26 memoonlyshop\n",
      "27 millesupergrain\n",
      "28 mohittchandani\n",
      "29 the_bongolicious_girl\n",
      "30 preethu__gowthu_g_o_w_d_a3219\n",
      "31 nemesiscreative\n",
      "32 powerplantfoods.in\n",
      "33 pramay_patel2708_shiva\n",
      "34 punitkhanna\n",
      "35 reena.khurana.3\n",
      "36 upgradetechinnovation11\n",
      "37 saarthakbhatnagar\n",
      "38 mr.everywhereist\n",
      "39 sk_liza_32\n",
      "40 taniyamalhotra02\n",
      "41 _thecelebrationcompany\n",
      "42 thegentleplate.in\n",
      "43 sapna2015s\n",
      "44 official21___vishal\n",
      "45 yukta_rajpal\n",
      "46 yashwantrawatofficial\n",
      "47 zubyjohal\n",
      "48 harshitasharma021\n",
      "49 y.k.ddixit\n",
      "50 itz__danish__004\n"
     ]
    }
   ],
   "source": [
    "find_follower('foodtalkindia')"
   ]
  },
  {
   "cell_type": "markdown",
   "metadata": {},
   "source": [
    "Now print all the followers of “foodtalkindia” that you are following but those who don’t follow you."
   ]
  },
  {
   "cell_type": "code",
   "execution_count": null,
   "metadata": {},
   "outputs": [],
   "source": [
    "def Following():\n",
    "\n",
    "    try:\n",
    "    \n",
    "        # Locating the Following button and click on it\n",
    "        wait.until(Ec.presence_of_element_located((By.XPATH,'//ul[@class=\"_aa_7\"]/li[3]'))).click()\n",
    "\n",
    "        # Locating Following List Frame\n",
    "        frame = wait.until(Ec.presence_of_element_located((By.XPATH,'//div[@class=\"_aano\"]')))\n",
    "\n",
    "        for i in range(2):\n",
    "            driver.execute_script('arguments[0].scrollTop=arguments[0].scrollHeight',frame)\n",
    "\n",
    "        handle = wait.until(Ec.presence_of_all_elements_located((By.XPATH,'//div[@class=\"_ab8w  _ab94 _ab97 _ab9f _ab9k _ab9p  _ab9- _aba8 _abcm\"]')))\n",
    "\n",
    "        All_User=[]\n",
    "        # iterate over handle\n",
    "        for i in handle:\n",
    "            TEXT = i.text.split('\\n')\n",
    "            if TEXT[-1]=='Following':\n",
    "                All_User.append(TEXT[0])\n",
    "\n",
    "        sleep(1)\n",
    "        # Locating Cross Button and click on \n",
    "        driver.find_element(By.XPATH,'//div[@class=\"_ac7b _ac7d\"]/div/button').click()\n",
    "\n",
    "        return All_User\n",
    "    except TimeoutException:\n",
    "        print(\"Something Went Wrong!\")"
   ]
  },
  {
   "cell_type": "code",
   "execution_count": null,
   "metadata": {},
   "outputs": [],
   "source": [
    "# Search for Given Insta Holder Id and open his profile\n",
    "search_open('foodtalkindia')\n",
    "sleep(3)\n",
    "\n",
    "# Extract Followers of foodtalkindia using Extract_list_of_followers() function\n",
    "followers_of_foodIN=find_follower()\n",
    "\n",
    "# Convert list into set\n",
    "followers_of_foodIN = set(followers_of_foodIN)"
   ]
  },
  {
   "cell_type": "code",
   "execution_count": null,
   "metadata": {},
   "outputs": [],
   "source": [
    "foodtalkindia_follower=Following('foodtalkindia')\n",
    "sleep(2)\n",
    "# go back to the home page\n",
    "myfollowing_list=Following('sam_shreyash123')\n"
   ]
  },
  {
   "cell_type": "code",
   "execution_count": null,
   "metadata": {},
   "outputs": [],
   "source": [
    "# Search for Given Insta Holder Id and open his profile\n",
    "search_open(userName)\n",
    "\n",
    "sleep(3)\n",
    "\n",
    "# get My following user list\n",
    "My_Following = Following()\n",
    "\n",
    "# convert list to set\n",
    "My_Following = set(My_Following)"
   ]
  },
  {
   "cell_type": "code",
   "execution_count": 1,
   "metadata": {},
   "outputs": [
    {
     "name": "stdout",
     "output_type": "stream",
     "text": [
      "No such users found\n"
     ]
    }
   ],
   "source": [
    "#taking intersection so s1 contains only that user who followed by me\n",
    "s1=(followers_of_foodIN).intersection(My_Following)\n",
    "if len(s1) == 0:\n",
    "    print('No such users found')\n",
    "else:\n",
    "    #now extracting my followers\n",
    "    try:\n",
    "        my_follower = find_follower(userName)\n",
    "    except:\n",
    "        # if there is no followers\n",
    "        my_follower = []\n",
    "    my_follower = set(my_follower)\n",
    "    #taking intersection with s1, so s2 contains only users that I am following them but they don’t follow me\n",
    "    s2=s1.intersection(my_follower)\n",
    "    if len(s2) == 0:\n",
    "        print('No such users found')\n",
    "    else:\n",
    "        for user in s2:\n",
    "            print(user)"
   ]
  },
  {
   "cell_type": "markdown",
   "metadata": {},
   "source": [
    "ANSWER 7"
   ]
  },
  {
   "cell_type": "markdown",
   "metadata": {},
   "source": [
    "Check the story of ‘coding.ninjas’. Consider the following Scenarios and print error messages accordingly -\n",
    "If You have already seen the story.\n",
    "Or The user has no story.\n",
    "Or View the story if not yet seen."
   ]
  },
  {
   "cell_type": "code",
   "execution_count": 346,
   "metadata": {},
   "outputs": [],
   "source": [
    "def check_story():\n",
    "  story=driver.find_element(By.XPATH,'//div[@class]')\n",
    "  height=driver.find_element(By.XPATH,'//canvas[@class=\"_aarh\"]').get_attribute('height')\n",
    "  if height=='208':\n",
    "    print('all ready view')\n",
    "  else:\n",
    "    story.click()\n",
    "    print(\"Viewing the story\")"
   ]
  },
  {
   "cell_type": "code",
   "execution_count": 344,
   "metadata": {},
   "outputs": [],
   "source": [
    "def search_open(key):\n",
    "  search(key)\n",
    "  sleep(5)\n",
    "  btn=driver.find_element(By.CLASS_NAME,'_abm4')\n",
    "  btn.click()"
   ]
  },
  {
   "cell_type": "code",
   "execution_count": 348,
   "metadata": {},
   "outputs": [
    {
     "name": "stdout",
     "output_type": "stream",
     "text": [
      "all ready view\n"
     ]
    }
   ],
   "source": [
    "search_open('coding.ninjas')\n",
    "sleep(3)\n",
    "check_story()"
   ]
  }
 ],
 "metadata": {
  "kernelspec": {
   "display_name": "Python 3.10.1 64-bit",
   "language": "python",
   "name": "python3"
  },
  "language_info": {
   "codemirror_mode": {
    "name": "ipython",
    "version": 3
   },
   "file_extension": ".py",
   "mimetype": "text/x-python",
   "name": "python",
   "nbconvert_exporter": "python",
   "pygments_lexer": "ipython3",
   "version": "3.10.1"
  },
  "orig_nbformat": 4,
  "vscode": {
   "interpreter": {
    "hash": "31671a60cee805c34c73116577b485118ff3a75c458d3004d49632c19702ac60"
   }
  }
 },
 "nbformat": 4,
 "nbformat_minor": 2
}
